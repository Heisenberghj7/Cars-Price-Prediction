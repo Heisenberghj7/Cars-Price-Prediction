{
 "cells": [
  {
   "cell_type": "code",
   "execution_count": 1,
   "id": "a841042d",
   "metadata": {},
   "outputs": [],
   "source": [
    "import pandas as pd"
   ]
  },
  {
   "cell_type": "code",
   "execution_count": 2,
   "id": "5c808ab6",
   "metadata": {},
   "outputs": [],
   "source": [
    "dt=pd.read_json(\"4-fiche-technique.json\")"
   ]
  },
  {
   "cell_type": "code",
   "execution_count": 3,
   "id": "0c52527b",
   "metadata": {},
   "outputs": [
    {
     "data": {
      "text/html": [
       "<div>\n",
       "<style scoped>\n",
       "    .dataframe tbody tr th:only-of-type {\n",
       "        vertical-align: middle;\n",
       "    }\n",
       "\n",
       "    .dataframe tbody tr th {\n",
       "        vertical-align: top;\n",
       "    }\n",
       "\n",
       "    .dataframe thead th {\n",
       "        text-align: right;\n",
       "    }\n",
       "</style>\n",
       "<table border=\"1\" class=\"dataframe\">\n",
       "  <thead>\n",
       "    <tr style=\"text-align: right;\">\n",
       "      <th></th>\n",
       "      <th>name</th>\n",
       "      <th>price</th>\n",
       "      <th>promo</th>\n",
       "      <th>params</th>\n",
       "      <th>values</th>\n",
       "      <th>More_Info</th>\n",
       "    </tr>\n",
       "  </thead>\n",
       "  <tbody>\n",
       "    <tr>\n",
       "      <th>0</th>\n",
       "      <td>BMW Série 3 320d Pack M</td>\n",
       "      <td>625.000</td>\n",
       "      <td></td>\n",
       "      <td>[Motorisation, Energie, Puissance fiscale, Tra...</td>\n",
       "      <td>[2.0 Turbo Diesel 190, Diesel, 8 , 2 roues mot...</td>\n",
       "      <td>• 8 airbags : Frontaux, latéraux AV, Rideaux A...</td>\n",
       "    </tr>\n",
       "    <tr>\n",
       "      <th>1</th>\n",
       "      <td>BMW Série 3 320d Elégance</td>\n",
       "      <td>544.000</td>\n",
       "      <td></td>\n",
       "      <td>[Motorisation, Energie, Puissance fiscale, Tra...</td>\n",
       "      <td>[2.0 Turbo Diesel 190, Diesel, 8 , 2 roues mot...</td>\n",
       "      <td>• 8 airbags : Frontaux, latéraux AV, Rideaux A...</td>\n",
       "    </tr>\n",
       "    <tr>\n",
       "      <th>2</th>\n",
       "      <td>BMW Série 3 318d Sport</td>\n",
       "      <td>489.700</td>\n",
       "      <td></td>\n",
       "      <td>[Motorisation, Energie, Puissance fiscale, Tra...</td>\n",
       "      <td>[2.0 Diesel Turbo 150 MHEV, Diesel, 8 , 2 roue...</td>\n",
       "      <td>• 8 airbags : Frontaux, latéraux AV, Rideaux A...</td>\n",
       "    </tr>\n",
       "    <tr>\n",
       "      <th>3</th>\n",
       "      <td>BMW Série 3 320i Sport</td>\n",
       "      <td>531.000</td>\n",
       "      <td></td>\n",
       "      <td>[Motorisation, Energie, Puissance fiscale, Tra...</td>\n",
       "      <td>[2.0 Turbo Diesel 184, Essence, 11 , 2 roues m...</td>\n",
       "      <td>• 8 airbags : Frontaux, latéraux AV, Rideaux A...</td>\n",
       "    </tr>\n",
       "    <tr>\n",
       "      <th>4</th>\n",
       "      <td>BMW Série 3 318d Pack M</td>\n",
       "      <td>577.000</td>\n",
       "      <td></td>\n",
       "      <td>[Motorisation, Energie, Puissance fiscale, Tra...</td>\n",
       "      <td>[2.0 Diesel Turbo 150, Diesel, 8 , 2 roues mot...</td>\n",
       "      <td>• 8 airbags : Frontaux, latéraux AV, Rideaux A...</td>\n",
       "    </tr>\n",
       "  </tbody>\n",
       "</table>\n",
       "</div>"
      ],
      "text/plain": [
       "                        name      price promo  \\\n",
       "0    BMW Série 3 320d Pack M   625.000          \n",
       "1  BMW Série 3 320d Elégance   544.000          \n",
       "2     BMW Série 3 318d Sport   489.700          \n",
       "3     BMW Série 3 320i Sport   531.000          \n",
       "4    BMW Série 3 318d Pack M   577.000          \n",
       "\n",
       "                                              params  \\\n",
       "0  [Motorisation, Energie, Puissance fiscale, Tra...   \n",
       "1  [Motorisation, Energie, Puissance fiscale, Tra...   \n",
       "2  [Motorisation, Energie, Puissance fiscale, Tra...   \n",
       "3  [Motorisation, Energie, Puissance fiscale, Tra...   \n",
       "4  [Motorisation, Energie, Puissance fiscale, Tra...   \n",
       "\n",
       "                                              values  \\\n",
       "0  [2.0 Turbo Diesel 190, Diesel, 8 , 2 roues mot...   \n",
       "1  [2.0 Turbo Diesel 190, Diesel, 8 , 2 roues mot...   \n",
       "2  [2.0 Diesel Turbo 150 MHEV, Diesel, 8 , 2 roue...   \n",
       "3  [2.0 Turbo Diesel 184, Essence, 11 , 2 roues m...   \n",
       "4  [2.0 Diesel Turbo 150, Diesel, 8 , 2 roues mot...   \n",
       "\n",
       "                                           More_Info  \n",
       "0  • 8 airbags : Frontaux, latéraux AV, Rideaux A...  \n",
       "1  • 8 airbags : Frontaux, latéraux AV, Rideaux A...  \n",
       "2  • 8 airbags : Frontaux, latéraux AV, Rideaux A...  \n",
       "3  • 8 airbags : Frontaux, latéraux AV, Rideaux A...  \n",
       "4  • 8 airbags : Frontaux, latéraux AV, Rideaux A...  "
      ]
     },
     "execution_count": 3,
     "metadata": {},
     "output_type": "execute_result"
    }
   ],
   "source": [
    "dt.head()"
   ]
  },
  {
   "cell_type": "code",
   "execution_count": 5,
   "id": "1894c8c2",
   "metadata": {},
   "outputs": [
    {
     "name": "stdout",
     "output_type": "stream",
     "text": [
      "name : BMW Série 3 320d Pack M\n",
      "price :  625.000 \n",
      "promo : \n",
      "params : ['Motorisation', 'Energie', 'Puissance fiscale', 'Transmission', 'Architecture', 'Cylindrée', 'Couple maxi.', 'Boîte à vitesse', 'Palettes au volant ', 'Puissance dynamique', 'Conso. ville', 'Conso. route', 'Conso. mixte', 'Emission CO2', 'Vitesse maxi.', 'Accélération 0-100 km/h', 'Catégorie', 'Carrosserie', 'Nombre de places', 'Poids à vide', 'Longueur', 'Largeur', 'Hauteur', 'Empattement', 'Volume du réservoir', 'Volume de coffre', 'Airbags', 'ABS', 'ESP', 'Antipatinage', \"Aide au freinage d'urgence\", 'Antidémarrage électronique', 'Aide au démarrage en côte', 'Sélecteur de mode de conduite', 'Détection de fatigue', 'Maintien dans la voie', \"Détecteur d'angle mort\", 'Détecteur de sous-gonflage', 'Fermeture de portes auto.', 'Préparation ISOFIX', 'Phares antibrouillard', \"Système d'alarme\", 'Climatisation', 'Système audio', 'Ordinateur de bord', 'Start & Stop', 'Régulateur de vitesse', 'Détecteur de pluie', 'Allumage auto. des feux', 'Frein à main électrique', 'Ecran tactile', 'Cockpit digital', 'Reconnaissance de panneaux', 'Affichage Tête-Haute', 'Aide au stationnement', 'Caméra de recul', 'Park Assist Auto.', 'Commandes au volant', 'Commandes vocales', 'Volant réglable', 'Vitres électriques', 'Rétros. électriques', 'Rétros. rabattables électriques', 'Coffre électrique', 'Mains libres', 'Sièges électriques', 'Sièges élec. avec mémoire', 'Banquette arrière rabattable 1/3-2/3', 'Navigation GPS', 'WiFi à bord', 'Bluetooth', 'Compatibilité smartphone', 'Chargeur/mobile sans fil', 'Jantes aluminium', 'Sellerie', 'Volant cuir', 'Follow-me home', \"Lumière d'ambiance\", 'Feux de jour', 'Phares', 'Toit', 'Barres de toit', 'Vitres sur-teintées']\n",
      "values : ['2.0 Turbo Diesel 190', 'Diesel', '8 ', '2 roues motrices ( 4x2 ou 2WD )', '4 cylindres en ligne', '1.995 ', '400 ', 'Automatique 8 rapports à double embrayage', 'https://www.wandaloo.com/imgs/oui.png', '190 ', '5,5 ', '4,5 ', '5,0 ', '111 ', '235 ', '7,0 ', 'Familiale', 'Berline tricorps', '5', '1.430 ', '463 ', '181 ', '144 ', '281 ', '57 ', '480 ', '8', 'https://www.wandaloo.com/imgs/oui.png', 'https://www.wandaloo.com/imgs/oui.png', 'https://www.wandaloo.com/imgs/oui.png', 'https://www.wandaloo.com/imgs/oui.png', 'https://www.wandaloo.com/imgs/oui.png', 'https://www.wandaloo.com/imgs/oui.png', 'https://www.wandaloo.com/imgs/oui.png', 'https://www.wandaloo.com/imgs/oui.png', 'https://www.wandaloo.com/imgs/non.png', 'https://www.wandaloo.com/imgs/non.png', 'https://www.wandaloo.com/imgs/oui.png', 'https://www.wandaloo.com/imgs/oui.png', 'https://www.wandaloo.com/imgs/oui.png', 'https://www.wandaloo.com/imgs/oui.png', 'https://www.wandaloo.com/imgs/non.png', '\\nauto. Tri-zone ', '\\nRadio, USB ', 'https://www.wandaloo.com/imgs/oui.png', 'https://www.wandaloo.com/imgs/oui.png', 'https://www.wandaloo.com/imgs/oui.png', 'https://www.wandaloo.com/imgs/oui.png', 'https://www.wandaloo.com/imgs/oui.png', 'https://www.wandaloo.com/imgs/oui.png', 'https://www.wandaloo.com/imgs/oui.png', 'https://www.wandaloo.com/imgs/oui.png', 'https://www.wandaloo.com/imgs/non.png', 'https://www.wandaloo.com/imgs/non.png', '\\nAvant et Arrière ', '\\nCaméra de recul ', 'https://www.wandaloo.com/imgs/oui.png', 'https://www.wandaloo.com/imgs/oui.png', 'https://www.wandaloo.com/imgs/oui.png', '\\nHauteur et Profondeur ', '\\nElectrique AV/AR ', 'https://www.wandaloo.com/imgs/oui.png', 'https://www.wandaloo.com/imgs/oui.png', 'https://www.wandaloo.com/imgs/oui.png', '\\nAccès & démarrage ', '\\nConducteur et Passager ', 'https://www.wandaloo.com/imgs/oui.png', 'https://www.wandaloo.com/imgs/oui.png', 'https://www.wandaloo.com/imgs/oui.png', 'https://www.wandaloo.com/imgs/non.png', 'https://www.wandaloo.com/imgs/oui.png', '\\nApple CarPlay® & Android Auto® ', 'https://www.wandaloo.com/imgs/oui.png', '\\n18 pouces ', 'Similicuir', 'https://www.wandaloo.com/imgs/oui.png', 'https://www.wandaloo.com/imgs/oui.png', 'https://www.wandaloo.com/imgs/oui.png', '\\nLED ', 'matrix LED', '\\nPanoramique ouvrant ', 'https://www.wandaloo.com/imgs/non.png', 'https://www.wandaloo.com/imgs/oui.png']\n",
      "More_Info : • 8 airbags : Frontaux, latéraux AV, Rideaux AV & AR• ABS ( Système anntiblocage des roues )• CBC ( Contrôle de freinage en courbe )• AFU ( Assistance freinage d'urgence )• ASC+T ( Système anti-patinage )• DSC ( Contrôle Dynamique de stabilité )• DTC (assistance dynamique à la motricité)• EWS IV ( Antidémarrage électronique)• Pneus permettant de rouler à plat• Détecteur de crevaison• Phares antibrouillard à LED• Réglage de site des phares• Système de détection de somnolence• Barres de renfort latérales avec points d'ancrage• Capteur d'impact (Activation airbags, feux de détresse, déverrouillage des portes... ) • Régulation automatique de la portée de l'éclairage en fonction de la charge• Indicateur de pression de gonflage pour chaque roue• Climatisation automatique Tri-zone + Micro filtre• Régulateur de vitesse avec fonction freinage • Car/key Memory• Détecteur de pluie• Allumage auto des phares• Vitres électriques AV et AR• Accoudoir central avant avec porte gobelets• Accoudoir central à l'arrière y compris porte-boissons• Rétroviseurs extérieurs anti-éblouissement automatique, rabattables• Personal Profile (Sauvegarde de profil)• Démarrage du moteur \"Confort\" sans clé• Détecteur d'obstacles de stationnement (PDC) à l'arrière• Ecran multifonctions couleur iDrive avec Ordinateur de bord• Commutateur de sensation de conduite y compris ECO PRO• Park Assist : Stationnement autonome du véhicule• Caméra de recul• Sièges sport pour conducteur et passager avant• Rétroviseur intérieur anti-éblouissement automatique• Frein de parking électromécanique avec fonction \"Automatic Hold\"• Accès confort • Jantes 18\" en alliage léger • Volant à touches multifonctions• Garnissage Simili cuir Sensatec • Volant Sport gainé cuir• Projecteurs à technologie Full LED adaptatifs• Inserts décoratifs M Aluminium Rhombicle Anthrazit• BMW Individual Extérieur Line Aluminium satiné• Double sortie d'échappement chromée ( gauche - droite ) • Projecteurs à technologie Bi-LED auto directionnels• Lumière ambiante• M Shadow Line à haute brillance• Seuils des portes Av. Aluminium, inscription BMW• Pare-chocs avant et arrière avec éléments spécifiques en noir brillant• Elément design en forme de T à droite et à gauche en Schwarz à haute brillance• Toit ouvrant en verre, électrique• Vitrage calorifuge surteinté• Pack extérieur \"Sport M\"• Spoiler arrière M• BMW Live Cockpit Plus avec écran d'instruments 12,3'' numérique• Ecran tactile 14,9\" HD• Bluetooth• 2 ports USB ( type A & C )• Système de Navigation GPS• Commandes vocales intelligentes \"Hey BMW\"• Intégration pour Smartphone: Apple Carplay & Android Auto• Système haut-parleurs HiFi, 10 haut-parleurs (205 W)• Compartiment de recharge sans fil• Garantie : 2 ans ou 100.000 km\n"
     ]
    }
   ],
   "source": [
    "for col in dt.columns:\n",
    "    print(col,':',dt.loc[0,col])"
   ]
  },
  {
   "cell_type": "code",
   "execution_count": null,
   "id": "882c0238",
   "metadata": {},
   "outputs": [],
   "source": []
  }
 ],
 "metadata": {
  "kernelspec": {
   "display_name": "Python 3 (ipykernel)",
   "language": "python",
   "name": "python3"
  },
  "language_info": {
   "codemirror_mode": {
    "name": "ipython",
    "version": 3
   },
   "file_extension": ".py",
   "mimetype": "text/x-python",
   "name": "python",
   "nbconvert_exporter": "python",
   "pygments_lexer": "ipython3",
   "version": "3.9.7"
  }
 },
 "nbformat": 4,
 "nbformat_minor": 5
}
